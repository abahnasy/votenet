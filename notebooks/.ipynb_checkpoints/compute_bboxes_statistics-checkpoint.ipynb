{
 "cells": [
  {
   "cell_type": "code",
   "execution_count": null,
   "metadata": {},
   "outputs": [],
   "source": [
    "import os, sys\n",
    "import numpy as np\n",
    "sys.path.append('/home/abahnasy/Desktop/votenet/waymo_open_dataset')\n",
    "from waymo_data import waymo_object"
   ]
  },
  {
   "cell_type": "code",
   "execution_count": null,
   "metadata": {},
   "outputs": [],
   "source": [
    "verbose = True"
   ]
  },
  {
   "cell_type": "code",
   "execution_count": null,
   "metadata": {},
   "outputs": [],
   "source": [
    "dataset = waymo_object('dataset')\n",
    "dimension_list = []"
   ]
  },
  {
   "cell_type": "code",
   "execution_count": null,
   "metadata": {},
   "outputs": [],
   "source": [
    "for data_idx in range(len(dataset)):\n",
    "    if verbose: print('Collecting Box statistics from idx {} '.format(data_idx))\n",
    "    bboxes = dataset.get_labels(data_idx)\n",
    "    dimension_list.append(bboxes[:,0:4])\n",
    "    "
   ]
  },
  {
   "cell_type": "code",
   "execution_count": null,
   "metadata": {},
   "outputs": [],
   "source": [
    "all_boxes = np.concatenate(dimension_list, axis = 0)\n",
    "all_boxes.shape"
   ]
  },
  {
   "cell_type": "code",
   "execution_count": null,
   "metadata": {},
   "outputs": [],
   "source": [
    "median_statistics = {}\n",
    "for class_type in range(5):\n",
    "    mask = (all_boxes[:,0] == class_type)\n",
    "    class_boxes = all_boxes[mask]\n",
    "    if class_boxes.shape[0] == 0:\n",
    "        continue\n",
    "    class_boxes = class_boxes[:,1:]\n",
    "    np.median(class_boxes, axis=0)\n",
    "    median_statistics[class_type] = np.median(class_boxes, axis=0)\n",
    "    print(median_statistics[class_type])"
   ]
  },
  {
   "cell_type": "code",
   "execution_count": null,
   "metadata": {},
   "outputs": [],
   "source": [
    "median_statistics"
   ]
  },
  {
   "cell_type": "code",
   "execution_count": null,
   "metadata": {},
   "outputs": [],
   "source": []
  }
 ],
 "metadata": {
  "kernelspec": {
   "display_name": "Python 3",
   "language": "python",
   "name": "python3"
  },
  "language_info": {
   "codemirror_mode": {
    "name": "ipython",
    "version": 3
   },
   "file_extension": ".py",
   "mimetype": "text/x-python",
   "name": "python",
   "nbconvert_exporter": "python",
   "pygments_lexer": "ipython3",
   "version": "3.8.5"
  }
 },
 "nbformat": 4,
 "nbformat_minor": 4
}
